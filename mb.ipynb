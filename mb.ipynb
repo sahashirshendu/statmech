{
 "cells": [
  {
   "cell_type": "code",
   "execution_count": null,
   "id": "c22c73bf",
   "metadata": {},
   "outputs": [],
   "source": [
    "import matplotlib.pyplot as plt\n",
    "from math import *\n",
    "from scipy.integrate import quad\n",
    "import numpy as np\n",
    "\n",
    "n = 100\n",
    "m = 1000\n",
    "um = -5.0\n",
    "\n",
    "t =np.linspace(0,1.5,n)\n",
    "mu =np.zeros(n)\n",
    "en =np.zeros(n)\n",
    "cv =np.zeros(n)\n",
    "cf = np.zeros(n)\n",
    "\n",
    "for i in range(n-1,-1,-1):\n",
    "    print(i)\n",
    "    mt =np.linspace(um,1.0,m)\n",
    "    for j in range(m):\n",
    "        def f(x):\n",
    "            return x**0.5/(np.exp((x-mt[j])/t[i])+1.0)\n",
    "        if abs(quad(f,1e-5,100)[0]-2./3.)<=1e-2:\n",
    "            mu[i] = mt[j]\n",
    "            um = mt[j]\n",
    "            break\n",
    "\n",
    "plt.title('Chemical Potential')\n",
    "plt.plot(t,mu,label='Numerical')\n",
    "plt.plot(t,1-pi**2/12*t**2,label='Analytical')\n",
    "plt.plot(t,np.zeros(len(t)))\n",
    "plt.legend()\n",
    "plt.show()"
   ]
  },
  {
   "cell_type": "code",
   "execution_count": null,
   "id": "222496c9",
   "metadata": {},
   "outputs": [],
   "source": []
  }
 ],
 "metadata": {
  "kernelspec": {
   "display_name": "Python 3 (ipykernel)",
   "language": "python",
   "name": "python3"
  },
  "language_info": {
   "codemirror_mode": {
    "name": "ipython",
    "version": 3
   },
   "file_extension": ".py",
   "mimetype": "text/x-python",
   "name": "python",
   "nbconvert_exporter": "python",
   "pygments_lexer": "ipython3",
   "version": "3.10.6"
  }
 },
 "nbformat": 4,
 "nbformat_minor": 5
}
